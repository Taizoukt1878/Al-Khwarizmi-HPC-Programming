{
 "cells": [
  {
   "cell_type": "markdown",
   "id": "f03849c1",
   "metadata": {},
   "source": [
    "*Note: all those exercises should be done using python with pyccel openmp*"
   ]
  },
  {
   "cell_type": "markdown",
   "id": "a2db4b9c",
   "metadata": {},
   "source": [
    "## Exercise 1 Hello World\n",
    "\n",
    "1. Write an OpenMP program displaying the number of threads used for the execution and the rank of each of the threads.\n",
    "3. Test the programs obtained with different numbers of threads for the parallel program.\n",
    "\n",
    "**Output Example**\n",
    "```shell\n",
    ">> Python hello.py\n",
    "Hello from the rank 2 thread\n",
    "Hello from the rank 0 thread\n",
    "Hello from the rank 3 thread\n",
    "Hello from the rank 1 thread\n",
    "Hello from the rank 4 thread\n",
    "Parallel execution of hello_world with 4 threads\n",
    "```\n",
    "*Note that the output order maybe different*"
   ]
  },
  {
   "cell_type": "code",
   "execution_count": 1,
   "id": "7a1400d8",
   "metadata": {},
   "outputs": [],
   "source": [
    "import numpy as np\n",
    "import time\n",
    "from pyccel.epyccel import epyccel\n",
    "from pyccel.decorators import types"
   ]
  },
  {
   "cell_type": "code",
   "execution_count": 13,
   "id": "a7eeb409",
   "metadata": {},
   "outputs": [
    {
     "name": "stdout",
     "output_type": "stream",
     "text": [
      "Overwriting hello.py\n"
     ]
    }
   ],
   "source": [
    "%%file hello.py\n",
    "from pyccel.stdlib.internal.openmp import omp_set_num_threads, omp_set_dynamic\n",
    "from pyccel.decorators import types\n",
    "from pyccel.stdlib.internal.openmp import omp_set_num_threads, omp_get_num_threads, omp_get_thread_num\n",
    "\n",
    "@types('int')\n",
    "def get_num_threads(n):\n",
    "    #omp_set_dynamic(0)\n",
    "    omp_set_num_threads(int(n))\n",
    "    #$ omp parallel\n",
    "    print(\"Hello from this$ omp end parallele rank \", int(omp_get_thread_num()),\" thread\")\n",
    "    result = omp_get_num_threads()\n",
    "    #$ omp end parallel\n",
    "    \n",
    "    return result\n",
    "\n",
    "if __name__ == \"__main__\" :\n",
    "    x = get_num_threads(10)\n",
    "    print(\"parallel execution of hello_world with \",x , \"threads\")"
   ]
  },
  {
   "cell_type": "code",
   "execution_count": 14,
   "id": "977be3f7",
   "metadata": {},
   "outputs": [],
   "source": [
    "# enter command for compile and run the program\n",
    "!pyccel hello.py --language=c --openmp"
   ]
  },
  {
   "cell_type": "code",
   "execution_count": 9,
   "id": "588a6cfa",
   "metadata": {},
   "outputs": [
    {
     "name": "stdout",
     "output_type": "stream",
     "text": [
      "Hello from this$ omp end parallele rank  1  thread\r\n",
      "Hello from this$ omp end parallele rank  2  thread\r\n",
      "Hello from this$ omp end parallele rank  3  thread\r\n",
      "Hello from this$ omp end parallele rank  4  thread\r\n",
      "Hello from this$ omp end parallele rank  5  thread\r\n",
      "Hello from this$ omp end parallele rank  6  thread\r\n",
      "Hello from this$ omp end parallele rank  7  thread\r\n",
      "Hello from this$ omp end parallele rank  8  thread\r\n",
      "Hello from this$ omp end parallele rank  9  thread\r\n",
      "Hello from this$ omp end parallele rank  0  thread\r\n",
      "parallel execution of hello_world with  10 threads\r\n"
     ]
    }
   ],
   "source": [
    "!./hello"
   ]
  },
  {
   "cell_type": "markdown",
   "id": "0ee0d684",
   "metadata": {},
   "source": [
    "## Exercise 2 Matrix product\n",
    "\n",
    "Considering the following code for matrix product:\n",
    "\n",
    "1. Using pyccel, epyccelize the `matrix_prod` function, and time the execution of epyccelized function.\n",
    "2. Insert the appropriate OpenMP directives and analyse the code performance.\n",
    "3. Test the loop iteration repartition modes (`STATIC`, `DYNAMIC`, `GUIDED`) and vary the chunk sizes.\n",
    "**Example output**\n",
    "\n",
    "```bash\n",
    "   Value of M and N           : 20 20 \n",
    "    Temps elapsed              : 0.0009012222290039062 \n",
    "    Temps CPU                  : 0.0 \n",
    "    Partiel results            : 2790.0 2690.0 ... -3610.0 -4350.0 \n",
    "\n",
    " Execution of Matrix production in parallele with                     8 threads\n",
    "```"
   ]
  },
  {
   "cell_type": "code",
   "execution_count": 9,
   "id": "e94defd2",
   "metadata": {},
   "outputs": [
    {
     "name": "stdout",
     "output_type": "stream",
     "text": [
      "CPU times: user 9.63 ms, sys: 262 µs, total: 9.89 ms\n",
      "Wall time: 9.57 ms\n"
     ]
    }
   ],
   "source": [
    "def matrix_prod(A, B, C, N, M):\n",
    "    \n",
    "    for i in range( M ):\n",
    "        for j in range( N ):\n",
    "            A[ i, j ] = (i + 1) + (j + 1)\n",
    "\n",
    "    \n",
    "    for i in range( N ):\n",
    "        for j in range( M ):\n",
    "            B[ i, j ] = (i + 1) - (j + 1)\n",
    "\n",
    "    \n",
    "    for i in range( M ):\n",
    "        for j in range( M ):\n",
    "            C[ i, j ] = 0\n",
    "    # ...\n",
    "\n",
    "    # Matrix Production\n",
    "    \n",
    "    for i in range( M ):\n",
    "        for j in range( M ):\n",
    "            for k in range( N ):\n",
    "                C[ i, j ] += A[ i, k ] * B[ k, j ]\n",
    "\n",
    "\n",
    "#     print(\"Execution of Matrix production in parallele with\",nb_threads, \"threads\")\n",
    "\n",
    "\n",
    "if __name__ == \"__main__\":\n",
    "    import numpy as np\n",
    "    import time\n",
    "    import math\n",
    "\n",
    "    M = 20\n",
    "    N = 20\n",
    "\n",
    "    # Declare Matrices\n",
    "    A = np.empty((M, N), dtype=np.double)\n",
    "    B = np.empty((N, M), dtype=np.double)\n",
    "    C = np.empty((M, M), dtype=np.double)\n",
    "\n",
    "#  run and time the matrix_prod function\n",
    "%time matrix_prod(A,B,C,N,M)"
   ]
  },
  {
   "cell_type": "markdown",
   "id": "5379e56e",
   "metadata": {},
   "source": [
    "## Pyccelizing"
   ]
  },
  {
   "cell_type": "code",
   "execution_count": 10,
   "id": "7b2003e4",
   "metadata": {},
   "outputs": [],
   "source": [
    "def matrix_prod_pyc(A : 'float[:,:]', B : 'float[:,:]', C:'float[:,:]', N : 'int', M :'int'):\n",
    "    \n",
    "    for i in range( M ):\n",
    "        for j in range( N ):\n",
    "            A[ i, j ] = (i + 1) + (j + 1)\n",
    "\n",
    "    \n",
    "    for i in range( N ):\n",
    "        for j in range( M ):\n",
    "            B[ i, j ] = (i + 1) - (j + 1)\n",
    "\n",
    "    \n",
    "    for i in range( M ):\n",
    "        for j in range( M ):\n",
    "            C[ i, j ] = 0\n",
    "    # ...\n",
    "\n",
    "    # Matrix Production\n",
    "    \n",
    "    for i in range( M ):\n",
    "        for j in range( M ):\n",
    "            for k in range( N ):\n",
    "                C[ i, j ] += A[ i, k ] * B[ k, j ]"
   ]
  },
  {
   "cell_type": "code",
   "execution_count": 11,
   "id": "551a45a9",
   "metadata": {},
   "outputs": [],
   "source": [
    "import numpy as np\n",
    "import time\n",
    "import math\n",
    "\n",
    "M = 20\n",
    "N = 20\n",
    "\n",
    "# Declare Matrices\n",
    "A = np.empty((M, N), dtype=np.double)\n",
    "B = np.empty((N, M), dtype=np.double)\n",
    "C = np.empty((M, M), dtype=np.double) "
   ]
  },
  {
   "cell_type": "code",
   "execution_count": 12,
   "id": "589ec17e",
   "metadata": {},
   "outputs": [
    {
     "name": "stdout",
     "output_type": "stream",
     "text": [
      "CPU times: user 25 µs, sys: 5 µs, total: 30 µs\n",
      "Wall time: 33.6 µs\n"
     ]
    }
   ],
   "source": [
    "#  run and time the matrix_prod function\n",
    "matrix_prod_pyccel = epyccel(matrix_prod_pyc)\n",
    "%time matrix_prod_pyccel(A,B,C,N,M)   "
   ]
  },
  {
   "cell_type": "markdown",
   "id": "4a776cad",
   "metadata": {},
   "source": [
    "## Using OpenMP "
   ]
  },
  {
   "cell_type": "code",
   "execution_count": 25,
   "id": "1ac86fcf",
   "metadata": {},
   "outputs": [
    {
     "name": "stdout",
     "output_type": "stream",
     "text": [
      "Overwriting matrice_prod.py\n"
     ]
    }
   ],
   "source": [
    "%%file matrice_prod.py\n",
    "from pyccel.stdlib.internal.openmp import omp_set_num_threads, omp_set_dynamic\n",
    "from pyccel.decorators import types\n",
    "from pyccel.stdlib.internal.openmp import omp_set_num_threads, omp_get_num_threads, omp_get_thread_num\n",
    "import numpy as np\n",
    "\n",
    "@types('int','int')\n",
    "def pro_mat_collaps(M,N):\n",
    "    #omp_set_dynamic(0)\n",
    "    #omp_set_num_threads(int(n))\n",
    "    \n",
    "    print (\"N = \", N,\"  M = \", M,\"\\n\" )\n",
    "    \n",
    "    A = np.empty((M, N))\n",
    "    B = np.empty((N, M))\n",
    "    C = np.empty((M, M))\n",
    "    \n",
    "    \n",
    "    #$ omp parallel\n",
    "    #$ omp for collapse(2)\n",
    "    for i in range(M):\n",
    "        for j in range(N):\n",
    "            A[ i, j ] = (i + 1) + (j + 1)\n",
    "    #$ omp end parallel\n",
    "    \n",
    "\n",
    "    #$ omp parallel\n",
    "    #$ omp for collapse(2)\n",
    "    for i in range(N):\n",
    "        for j in range(M):\n",
    "            B[ i, j ] = (i + 1) - (j + 1)\n",
    "    #$ omp end parallel\n",
    "\n",
    "    #$ omp parallel\n",
    "    #$ omp for collapse(2)\n",
    "    for i in range( M ):\n",
    "        for j in range( M ):\n",
    "            C[ i, j ] = 0\n",
    "    #$ omp end parallel\n",
    "\n",
    "    \n",
    "    #$ omp parallel\n",
    "    #$ omp for collapse (3)\n",
    "    for i in range( M ):\n",
    "        for j in range( M ):\n",
    "            for k in range( N ):\n",
    "                C[ i, j ] += A[ i, k ] * B[ k, j ]\n",
    "    result = omp_get_num_threads()\n",
    "    #$ omp end parallel\n",
    "   \n",
    "    return result\n",
    "\n",
    "if __name__ == \"__main__\" :\n",
    "\n",
    "    M = 20\n",
    "    N = 20\n",
    "    # Declare Matrices\n",
    "\n",
    "    x = pro_mat_collaps(M,N)\n",
    "    print(\"Execution of Matrix production in parallele with  \",x , \"threads\\n\\n\")"
   ]
  },
  {
   "cell_type": "code",
   "execution_count": 26,
   "id": "4378140c",
   "metadata": {},
   "outputs": [],
   "source": [
    "# enter command for compile and run the program\n",
    "!pyccel matrice_prod.py --language=c --openmp"
   ]
  },
  {
   "cell_type": "code",
   "execution_count": 27,
   "id": "ad2a09a7",
   "metadata": {},
   "outputs": [
    {
     "name": "stdout",
     "output_type": "stream",
     "text": [
      "N =  20   M =  20 \n",
      "\n",
      "Execution of Matrix production in parallele with   16 threads\n",
      "\n",
      "\n",
      "CPU times: user 4.27 ms, sys: 4.13 ms, total: 8.39 ms\n",
      "Wall time: 116 ms\n"
     ]
    }
   ],
   "source": [
    "%time !export OMP_NUM_THREADS=16; ./matrice_prod"
   ]
  },
  {
   "cell_type": "markdown",
   "id": "db729e9b",
   "metadata": {},
   "source": [
    "## Exercise 3 Jacobi method\n",
    "\n",
    "Considering the following code for a general linear system solver:\n",
    "\n",
    "$$ A \\times x = b $$\n",
    "\n",
    "using the Jacobi iterative method.\n",
    "In this exercice, you must solve the system in parallel\n",
    "   \n",
    "**Example Output**\n",
    "    \n",
    "```bash\n",
    "System size    : 20 \n",
    " Iterations     : 21 \n",
    " Stand          : 2.9100049961372497e-08 \n",
    " Elapsed Time   : 7.447303771972656 \n",
    " CPU time       : 0.921875 \n",
    "```"
   ]
  },
  {
   "cell_type": "code",
   "execution_count": 28,
   "id": "a8af86ef",
   "metadata": {},
   "outputs": [
    {
     "name": "stdout",
     "output_type": "stream",
     "text": [
      "System size    : 20 \n",
      " Iterations     : 22 \n",
      " Stand          : 0.000600382935325167 \n",
      " Elapsed Time   : 0.6759302616119385 \n",
      " CPU time       : 0.0587195429999996 \n",
      "\n"
     ]
    }
   ],
   "source": [
    "@types('float [:,:]','float [:]','float [:]','int','float')\n",
    "def jacobi(a ,b, x, n, eps):\n",
    "\n",
    "#     print(\"Execution of Jacobi in parallel with\", nb_tasks, \"threads\")\n",
    "    # Jacobi method resolution\n",
    "    import numpy as np\n",
    "    import math\n",
    "    x_courant = np.empty(n, dtype=np.double)\n",
    "    iteration = 0\n",
    "\n",
    "    #$ omp parallel\n",
    "    #pragma omp sections nowait\n",
    "    while(1):\n",
    "        \n",
    "        iteration += 1\n",
    "        \n",
    "        for i in range(n):\n",
    "            x_courant[i] = 0\n",
    "    #pragma omp section\n",
    "            for j in range(i):\n",
    "                x_courant[i] += a[ j, i ] * x[j]\n",
    "    #pragma omp end section\n",
    "    \n",
    "    #pragma omp section\n",
    "            for j in range(i + 1, n):\n",
    "                x_courant[i] += a[ j, i ] * x[j]\n",
    "    #pragma omp end section\n",
    "            x_courant[i] = (b[i] - x_courant[i]) / a[ i, i ]\n",
    "\n",
    "        # Convergence test\n",
    "        \n",
    "        absmax = 0.\n",
    "        for i in range(n):\n",
    "            curr = abs(x[i] - x_courant[i])\n",
    "            if curr > absmax:\n",
    "                absmax = curr\n",
    "        stand = absmax / n\n",
    "        if stand <= eps or iteration > n:\n",
    "            break\n",
    "\n",
    "        # copy x_courant into x\n",
    "        for i in range(n):\n",
    "            x [i] = x_courant[i]\n",
    "    \n",
    "    #pragma omp end sections\n",
    "    #$ omp end parallel    \n",
    "            \n",
    "    return stand, iteration\n",
    "\n",
    "\n",
    "if __name__ == \"__main__\":\n",
    "\n",
    "    import numpy as np\n",
    "    import time, random, math, sys\n",
    "\n",
    "    # Matrix default dimension\n",
    "    n = 20\n",
    "    diag = 20\n",
    "\n",
    "    # Initialize of the matrices\n",
    "    np.random.seed(421)  # for reproductibles results\n",
    "    a = np.random.uniform(0, 1, size=(n, n))\n",
    "    b = np.random.uniform(0, 1, size=n)\n",
    "\n",
    "    # We strengthen the main diagonal of the matrix\n",
    "    for i in range(n):\n",
    "        a[ i, i ] += diag\n",
    "\n",
    "    # Initial solution\n",
    "    x = np.ones(n, dtype=np.double)\n",
    "\n",
    "    # start CPU timing\n",
    "    cpu_0 = time.process_time()\n",
    "\n",
    "    # start Wall timing\n",
    "    elapsed_0 = time.time()\n",
    "\n",
    "    # Pyccelize jacobi function\n",
    "    from pyccel.epyccel import epyccel\n",
    "    p_jacobi = epyccel(jacobi, language='c', accelerators=['openmp'])\n",
    "\n",
    "    eps = sys.float_info.epsilon\n",
    "\n",
    "    # -------------------- computing ------------------\n",
    "    stand, iteration = p_jacobi(a, b, x, n, eps)\n",
    "    # ------------------ End computing ----------------\n",
    "\n",
    "    # CPU time\n",
    "    cpu_1 = time.process_time()\n",
    "    cpu = cpu_1 - cpu_0\n",
    "\n",
    "    # Wall timing\n",
    "    elapsed_1 = time.time()\n",
    "    elapsed = elapsed_1 - elapsed_0\n",
    "\n",
    "    print(\n",
    "        \"System size    :\", n,          '\\n',\n",
    "        \"Iterations     :\", iteration,  '\\n',\n",
    "        \"Stand          :\", stand,      '\\n',\n",
    "        \"Elapsed Time   :\", elapsed,    '\\n',\n",
    "        \"CPU time       :\", cpu,        '\\n'\n",
    "    )"
   ]
  },
  {
   "cell_type": "markdown",
   "id": "acd992ae",
   "metadata": {},
   "source": [
    "## Exercise 4 Calculation of π\n",
    "\n",
    "The aim of this exercise is to calculate π by numerical integration knowing that Considering the following code for matrix product: $\\int_{0}^{1} \\frac{4}{1 + x^2} = {\\pi} $\n",
    "\n",
    "The following program is for calculating the value of\n",
    "π by the rectangle method (mid-point). Let $f(x) = \\frac{4}{1 + x^2} $\n",
    "2 be the function to integrate, N and $ h = \\frac{1}{N} $ (respectively) the number of points, and the discretization width on the integration\n",
    "interval $[0, 1]$.\n",
    "\n",
    "Analyse the performance of the codes, then optimise  your code using OpenMP directives."
   ]
  },
  {
   "cell_type": "code",
   "execution_count": 82,
   "id": "c2773e5e",
   "metadata": {},
   "outputs": [
    {
     "name": "stdout",
     "output_type": "stream",
     "text": [
      "Overwriting pi4.py\n"
     ]
    }
   ],
   "source": [
    "%%file pi4.py\n",
    "from pyccel.decorators import types\n",
    "\n",
    "\n",
    "def pi(n:'int'):\n",
    "#     print(\"Execution of PI in parallel with\", nb_tasks,\"threads\")\n",
    "\n",
    "    #$ omp parallel\n",
    "    h = float(1/n)\n",
    "    for k in range(100):\n",
    "        Pi_calc = 0.\n",
    "        for i in range(n):\n",
    "            x = h * (i + 0.5)\n",
    "            Pi_calc += 4.0 / (1. + x * x)\n",
    "\n",
    "        # omp atomic\n",
    "        Pi_calc = h * Pi_calc\n",
    "        \n",
    "    #omp end parallel\n",
    "    \n",
    "    return Pi_calc"
   ]
  },
  {
   "cell_type": "code",
   "execution_count": 70,
   "id": "f142a73b",
   "metadata": {},
   "outputs": [
    {
     "name": "stdout",
     "output_type": "stream",
     "text": [
      "3.1416009869231254\n"
     ]
    }
   ],
   "source": [
    "# Test\n",
    "from pi4 import *\n",
    "print(pi(100))"
   ]
  },
  {
   "cell_type": "code",
   "execution_count": 81,
   "id": "0f8992ce",
   "metadata": {},
   "outputs": [
    {
     "name": "stdout",
     "output_type": "stream",
     "text": [
      "   Number of intervals        : 300 \n",
      "    | Pi_estime - Pi_calcule | : 9.259259248217688e-07 \n",
      "    Temps elapsed              : 0.0002646446228027344 \n",
      "    Temps CPU                  : 0.0002705879999993499 \n",
      "\n"
     ]
    }
   ],
   "source": [
    "import time, math\n",
    "\n",
    "from pyccel.decorators import types\n",
    "\n",
    "@types('int')\n",
    "def pi_1(n):\n",
    "    \n",
    "    h = float(1/n)\n",
    "    #$ omp parallel\n",
    "    for k in range (100):\n",
    "        Pi_calc = 0.\n",
    "        for i in range (n):\n",
    "            x = h * (i + 0.5)\n",
    "            Pi_calc += 4.0 / (1. + x * x)\n",
    "        #$ omp atomic\n",
    "        Pi_calc = h * Pi_calc\n",
    "    #$ omp end parallel\n",
    "    \n",
    "    return Pi_calc\n",
    "\n",
    "\n",
    "if __name__ == '__main__':\n",
    "    #                  __\n",
    "    #  But : calcul de || par la methode des rectangles (point milieu).\n",
    "    #\n",
    "    #                   / 1\n",
    "    #                  |       4            __\n",
    "    #                  |   ----------  dx = ||\n",
    "    #                  |    1 + x**2\n",
    "    #                 / 0\n",
    "\n",
    "\n",
    "    n = 300\n",
    "\n",
    "    # Length of the integration interval\n",
    "    h = 1.0 / n\n",
    "\n",
    "    from pyccel.epyccel import epyccel\n",
    "    #import pi4\n",
    "    pyc_pi = epyccel(pi_1, language='c', accelerators=['openmp'])\n",
    "\n",
    "    # start timing\n",
    "    tcpu_0 = time.process_time() # CPU time\n",
    "    t_elapsed_0 = time.time()    # Wall time\n",
    "     # -------------------- computing ------------------\n",
    "\n",
    "    Pi_calc = pyc_pi(n)\n",
    "\n",
    "    # ------------------ End computing ----------------\n",
    "    # CPU time spent\n",
    "    tcpu_1 = time.process_time()\n",
    "    tcpu = tcpu_1 - tcpu_0\n",
    "\n",
    "    # Wall time spent\n",
    "    t_elapsed_1 = time.time()\n",
    "    t_elapsed = t_elapsed_1 - t_elapsed_0\n",
    "\n",
    "    # deviation between the estimated value and the calculated value of Pi\n",
    "    Pi_estime = math.acos(-1)\n",
    "    deviat = math.fabs(Pi_estime - Pi_calc)\n",
    "\n",
    "    # Print result\n",
    "    print(\n",
    "      \"   Number of intervals        :\", n,         \"\\n\",\n",
    "      \"   | Pi_estime - Pi_calcule | :\", deviat,    \"\\n\",\n",
    "      \"   Temps elapsed              :\", t_elapsed, \"\\n\",\n",
    "      \"   Temps CPU                  :\", tcpu,      \"\\n\",\n",
    "    )"
   ]
  },
  {
   "cell_type": "markdown",
   "id": "826063eb",
   "metadata": {},
   "source": [
    "* Les résultats sans utilise OpenMp\n",
    "   -    Number of intervals        : 300 \n",
    "   -| Pi_estime - Pi_calcule | : 9.259259248217688e-07 \n",
    "   - Temps elapsed              : 0.0003139972686767578 \n",
    "   - Temps CPU                  : 0.0003178639999994459 "
   ]
  },
  {
   "cell_type": "markdown",
   "id": "eb21c27c",
   "metadata": {},
   "source": [
    "* Les résultats sans utilise OpenMp\n",
    "   -Number of intervals        : 300 \n",
    "   - | Pi_estime - Pi_calcule | : 9.259259248217688e-07 \n",
    "   - Temps elapsed              : 0.0002646446228027344 \n",
    "   - Temps CPU                  : 0.0002705879999993499 \n"
   ]
  },
  {
   "cell_type": "markdown",
   "id": "54e9a63a",
   "metadata": {},
   "source": [
    "## Exercise 5 Reduction of an array\n",
    "\n",
    "The given program contained in the `reduction_tab.py` file is extracted from a chemistry code. It reduces a three-dimensional array into a vector. The aim of this exercise is to parallelize this calculation kernel without changing the loop order in the provided code (i.e. k,j,i)\n",
    "\n",
    "1. Analyse the data-sharing attributes of the variables and adapt the source code so that the K outermost loop is parallelized.\n",
    "2. Compare the performance obtained by using the thread/core binding default execution on Ada and by using scatter binding. Suggest an explanation for the poor performance of the latter.\n",
    "3. Optimise the source code for the scatter mode with taking into account the memory affinity. Why does this third series of executions give the best performance "
   ]
  },
  {
   "cell_type": "code",
   "execution_count": 7,
   "id": "e116d2f7",
   "metadata": {},
   "outputs": [
    {
     "name": "stdout",
     "output_type": "stream",
     "text": [
      "Writing initial.py\n"
     ]
    }
   ],
   "source": [
    "%%file initial.py\n",
    "\n",
    "def initialize_table(tab, nmolec, n, nmol):\n",
    "    # Initialisation du tableau\n",
    "    # First-touch pour garantir un fonctionnement optimal sur les systemes NUMA\n",
    "    for k in range(nmolec):\n",
    "        for j in range(n):\n",
    "            for i in range(nmol):\n",
    "                tab[ i,j,k ] = i + j + k"
   ]
  },
  {
   "cell_type": "code",
   "execution_count": 14,
   "id": "9b9fdd28",
   "metadata": {},
   "outputs": [
    {
     "name": "stdout",
     "output_type": "stream",
     "text": [
      "Overwriting reduction_tab1.py\n"
     ]
    }
   ],
   "source": [
    "%%file reduction_tab1.py\n",
    "\n",
    "from pyccel.stdlib.internal.openmp import omp_get_thread_num\n",
    "from pyccel.decorators import types\n",
    "\n",
    "\n",
    "\n",
    "\n",
    "def reduction(tab:'float [:,:]', tab1 : 'float [:]', tab2 : 'float [:]', nmolec :'int', nmol:'int', n:'int'):\n",
    "    for k in range(nmolec):\n",
    "        tab1[:nmol] = 0\n",
    "        for j in range(n):\n",
    "            for i in range(nmol):\n",
    "                tab1[i] = tab1[i] + tab[i,j]\n",
    "        #tab2[:nmol] = tab2[:nmol] + 2 * tab1[:nmol]\n",
    "\n"
   ]
  },
  {
   "cell_type": "code",
   "execution_count": 15,
   "id": "659bd746",
   "metadata": {
    "scrolled": true
   },
   "outputs": [
    {
     "name": "stdout",
     "output_type": "stream",
     "text": [
      "Temps elapsed  : 0.036789894104003906 \n",
      " Temps CPU      : 0.03671308700000031 \n",
      " Erreur relative: 0.0 \n",
      "\n"
     ]
    }
   ],
   "source": [
    "from os import error\n",
    "\n",
    "if __name__ == '__main__':\n",
    "    import numpy as np\n",
    "    import time\n",
    "\n",
    "    # default dimension\n",
    "    nmolec = 100\n",
    "    nmol   = 100\n",
    "    n      = 10\n",
    "\n",
    "    tab     = np.empty((nmol, n, nmolec), dtype=np.double)\n",
    "    tab1    = np.empty((nmol), dtype=np.double)\n",
    "    tab2    = np.zeros((nmol), dtype=np.double)\n",
    "\n",
    "    # pyccelize reduction tab module\n",
    "    from pyccel.epyccel import epyccel\n",
    "    from  reduction_tab1 import reduction\n",
    "    from initial import initialize_table\n",
    "    \n",
    "    reduction_p = epyccel(reduction, language='c', accelerators=['openmp'])\n",
    "    \n",
    "#     print(\"Execution of reduction table in parallele with\", reduction.threads_num, \"threads\")\n",
    "\n",
    "    # initialize tab \n",
    "    initialize_table(tab, nmol, n, nmolec)\n",
    "\n",
    "    # start timing\n",
    "    tcpu_0 = time.process_time() # CPU time\n",
    "    t_elapsed_0 = time.time()    # Wall time\n",
    "\n",
    "    # -------------------- computing ------------------\n",
    "    reduction(tab, tab1, tab2, nmolec, nmol, n)\n",
    "    # ------------------ End computing ----------------\n",
    "\n",
    "    # CPU time spent\n",
    "    tcpu_1 = time.process_time()\n",
    "    tcpu = tcpu_1 - tcpu_0\n",
    "\n",
    "    # Wall time spent\n",
    "    t_elapsed_1 = time.time()\n",
    "    t_elapsed = t_elapsed_1 - t_elapsed_0\n",
    "\n",
    "    # verification of results\n",
    "    tab2c = np.zeros((nmol), dtype=np.double)\n",
    "    for k in range(nmolec):\n",
    "        tab1c = np.zeros((nmol), dtype=np.double)\n",
    "        for j in range(n):\n",
    "            for i in range(nmol):\n",
    "                tab1c[i] = tab1c[i] + tab[i, j, k]\n",
    "        tab2c [:] = tab2c[:nmol] + 2 * tab1c[:]\n",
    "    err = np.max(np.abs(tab2c - tab2) / np.abs(tab2c))\n",
    "    print(\n",
    "        \"Temps elapsed  :\", t_elapsed   , \"\\n\",\n",
    "        \"Temps CPU      :\", tcpu        , \"\\n\",\n",
    "        \"Erreur relative:\", err         , \"\\n\"\n",
    "    )"
   ]
  },
  {
   "cell_type": "code",
   "execution_count": 8,
   "id": "7b5b9282",
   "metadata": {},
   "outputs": [
    {
     "data": {
      "text/plain": [
       "function"
      ]
     },
     "execution_count": 8,
     "metadata": {},
     "output_type": "execute_result"
    }
   ],
   "source": [
    "import reduction_tab1\n",
    "type(reduction)"
   ]
  },
  {
   "cell_type": "markdown",
   "id": "4045d2e1",
   "metadata": {},
   "source": [
    "# Exercise 6 Matrix product by the Strassen algorithm\n",
    "\n",
    "Considering the following code that calculates the matrix product :\n",
    "\n",
    "$$C = A \\times B$$\n",
    "\n",
    "by using Strassen’s recursive algorithm.\n",
    "\n",
    "In this exercise, you must :\n",
    "1. Analyse and parallelize the code by using OpenMP tasks.\n",
    "2. Measure the code performance and plot the speedup curves obtained."
   ]
  },
  {
   "cell_type": "code",
   "execution_count": 7,
   "id": "e148afce",
   "metadata": {},
   "outputs": [
    {
     "data": {
      "text/plain": [
       "0"
      ]
     },
     "execution_count": 7,
     "metadata": {},
     "output_type": "execute_result"
    }
   ],
   "source": [
    "20 & 1"
   ]
  },
  {
   "cell_type": "code",
   "execution_count": 15,
   "id": "bd9c8a80",
   "metadata": {},
   "outputs": [
    {
     "name": "stdout",
     "output_type": "stream",
     "text": [
      "   Erreur        : 4.117930793327016e-15 \n",
      "    Temps elapsed : 0.0004563331604003906 \n",
      "    Temps CPU     : 0.0012285329999990324 \n",
      "\n"
     ]
    }
   ],
   "source": [
    "import time, math\n",
    "import numpy as np\n",
    "from pyccel.epyccel import epyccel\n",
    "from pyccel.decorators import types\n",
    "from pyccel.stdlib.internal.openmp import omp_set_num_threads, omp_get_num_threads, omp_get_thread_num\n",
    "\n",
    "\n",
    "def strassen_multiply(A: 'float[:,:]', B :  'float[:,:]', C :  'float[:,:]', n:'int'):\n",
    "\n",
    "    \n",
    "    import numpy as np\n",
    "    \n",
    "    \n",
    "    if n & 1 != 0  or n < 12:\n",
    "        C[:] = np.matmul(A, B)\n",
    "    else:\n",
    "        n2 = n // 2\n",
    "        \n",
    "       \n",
    "        A11 = A[ 0:n2, 0:n2 ]\n",
    "        A21 = A[ n2:n, 0:n2 ]\n",
    "        A12 = A[ 0:n2, n2:n ]\n",
    "        A22 = A[ n2:n, n2:n ]\n",
    "        B11 = B[ 0:n2, 0:n2 ]\n",
    "        B21 = B[ n2:n, 0:n2 ]\n",
    "        B12 = B[ 0:n2, n2:n ]\n",
    "        B22 = B[ n2:n, n2:n ]\n",
    "        \n",
    "        \n",
    "        Q1 = np.empty((n2, n2), dtype=np.double)\n",
    "        Q2 = np.empty((n2, n2), dtype=np.double)\n",
    "        Q3 = np.empty((n2, n2), dtype=np.double)\n",
    "        Q4 = np.empty((n2, n2), dtype=np.double)\n",
    "        Q5 = np.empty((n2, n2), dtype=np.double)\n",
    "        Q6 = np.empty((n2, n2), dtype=np.double)\n",
    "        Q7 = np.empty((n2, n2), dtype=np.double)\n",
    "        \n",
    "\n",
    "        #$ omp parallel\n",
    "            \n",
    "        #$ omp single    \n",
    "        strassen_multiply(A11+A22, B11+B22, Q1, n2)\n",
    "        #$ omp end single  \n",
    "        \n",
    "        #$ omp single  \n",
    "        strassen_multiply(A21+A22, B11, Q2, n2)\n",
    "        #$ omp end single \n",
    "        #$ omp single  \n",
    "        strassen_multiply(A11, B12-B22, Q3, n2)\n",
    "        #$ omp end single \n",
    "        #$ omp single  \n",
    "        strassen_multiply(A22, -B11+B21, Q4, n2)\n",
    "        #$ omp end single \n",
    "        #$ omp single  \n",
    "        strassen_multiply(A11+A12, B22, Q5, n2)\n",
    "        #$ omp end single \n",
    "        #$ omp single  \n",
    "        strassen_multiply(-A11+A21, B11+B12, Q6, n2)\n",
    "        #$ omp end single \n",
    "        #$ omp single  \n",
    "        strassen_multiply(A12-A22, B21+B22, Q7, n2)\n",
    "        \n",
    "        #$ omp end single \n",
    "        #res = omp_get_num_threads()\n",
    "        #$ omp end parallel\n",
    "        \n",
    "        C[   :n2,   :n2 ] = Q1+Q4-Q5+Q7\n",
    "        C[ n2: n,   :n2 ] = Q2+Q4\n",
    "        C[   :n2, n2:n  ] = Q3+Q5\n",
    "        C[ n2:n , n2:n  ] = Q1+Q3-Q2+Q6\n",
    "        \n",
    "        \n",
    "    \n",
    "\n",
    "\n",
    "def calcul_erreur(n, A, B, C):\n",
    "    D = np.matmul(A, B) \n",
    "    error = 0.0\n",
    "    for i in range(n):\n",
    "        for j in range(n):\n",
    "            e = C[ i, j ] - D[ i, j ]\n",
    "            error += e * e\n",
    "\n",
    "    error = math.sqrt(error) / n\n",
    "    return error\n",
    "\n",
    "if __name__ == '__main__':\n",
    "    n = 50\n",
    "\n",
    "    # Initialize Matrices\n",
    "    np.random.seed(421)\n",
    "    A = np.random.uniform(0, 1, (n, n))\n",
    "    B = np.random.uniform(0, 1, (n, n))\n",
    "    C = np.empty((n,n), dtype=np.double)\n",
    "\n",
    "    from pyccel.epyccel import epyccel\n",
    "    \n",
    "    strassen = epyccel(strassen_multiply, accelerators=['openmp'])\n",
    "    #num_threads = epyccel(threads_num, accelerators=['openmp'])\n",
    "    #print(\"Execution of Strassen in parallele with\", num_threads(), \"threads\")\n",
    "    \n",
    "    \n",
    "    # Start timing\n",
    "    tcpu_0 = time.process_time() # CPU time\n",
    "    t_elapsed_0 = time.time()    # Wall time\n",
    "    # -------------------- computing ------------------\n",
    "    # Calcul C=A*B par la methode recursive de Strassen\n",
    "    strassen(A, B, C, n)\n",
    "    # ------------------ end computing ----------------\n",
    "    # CPU time spent\n",
    "    tcpu_1 = time.process_time()\n",
    "    tcpu = tcpu_1 - tcpu_0\n",
    "\n",
    "    # Wall time spent\n",
    "    t_elapsed_1 = time.time()\n",
    "    t_elapsed = t_elapsed_1 - t_elapsed_0\n",
    "    # Print result\n",
    "    print(\n",
    "      \"   Erreur        :\", calcul_erreur(n, A, B, C),  \"\\n\",\n",
    "\t  \"   Temps elapsed :\", t_elapsed,                  \"\\n\",\n",
    "\t  \"   Temps CPU     :\", tcpu,                       \"\\n\",\n",
    "    )"
   ]
  },
  {
   "cell_type": "code",
   "execution_count": null,
   "id": "31cd607d",
   "metadata": {},
   "outputs": [],
   "source": []
  }
 ],
 "metadata": {
  "kernelspec": {
   "display_name": "Python 3 (ipykernel)",
   "language": "python",
   "name": "python3"
  },
  "language_info": {
   "codemirror_mode": {
    "name": "ipython",
    "version": 3
   },
   "file_extension": ".py",
   "mimetype": "text/x-python",
   "name": "python",
   "nbconvert_exporter": "python",
   "pygments_lexer": "ipython3",
   "version": "3.9.7"
  }
 },
 "nbformat": 4,
 "nbformat_minor": 5
}
